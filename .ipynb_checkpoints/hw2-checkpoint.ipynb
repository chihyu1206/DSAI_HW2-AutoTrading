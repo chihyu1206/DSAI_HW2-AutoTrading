{
 "cells": [
  {
   "cell_type": "code",
   "execution_count": 1,
   "id": "likely-electronics",
   "metadata": {
    "tags": []
   },
   "outputs": [
    {
     "ename": "NameError",
     "evalue": "name 'args' is not defined",
     "output_type": "error",
     "traceback": [
      "\u001b[1;31m---------------------------------------------------------------------------\u001b[0m",
      "\u001b[1;31mNameError\u001b[0m                                 Traceback (most recent call last)",
      "\u001b[1;32m<ipython-input-1-63c0c08bd924>\u001b[0m in \u001b[0;36m<module>\u001b[1;34m\u001b[0m\n\u001b[0;32m      5\u001b[0m \u001b[1;32mfrom\u001b[0m \u001b[0mxgboost\u001b[0m \u001b[1;32mimport\u001b[0m \u001b[0mXGBClassifier\u001b[0m\u001b[1;33m\u001b[0m\u001b[0m\n\u001b[0;32m      6\u001b[0m \u001b[1;33m\u001b[0m\u001b[0m\n\u001b[1;32m----> 7\u001b[1;33m \u001b[0mtrain_df\u001b[0m \u001b[1;33m=\u001b[0m \u001b[0mpd\u001b[0m\u001b[1;33m.\u001b[0m\u001b[0mread_csv\u001b[0m\u001b[1;33m(\u001b[0m\u001b[0margs\u001b[0m\u001b[1;33m.\u001b[0m\u001b[0mtraining\u001b[0m\u001b[1;33m,\u001b[0m \u001b[0mnames\u001b[0m\u001b[1;33m=\u001b[0m\u001b[1;33m(\u001b[0m\u001b[1;34m\"open\"\u001b[0m\u001b[1;33m,\u001b[0m \u001b[1;34m\"high\"\u001b[0m\u001b[1;33m,\u001b[0m \u001b[1;34m\"low\"\u001b[0m\u001b[1;33m,\u001b[0m \u001b[1;34m\"close\"\u001b[0m\u001b[1;33m)\u001b[0m\u001b[1;33m)\u001b[0m\u001b[1;33m\u001b[0m\u001b[0m\n\u001b[0m\u001b[0;32m      8\u001b[0m \u001b[0mtest_df\u001b[0m \u001b[1;33m=\u001b[0m \u001b[0mpd\u001b[0m\u001b[1;33m.\u001b[0m\u001b[0mread_csv\u001b[0m\u001b[1;33m(\u001b[0m\u001b[0margs\u001b[0m\u001b[1;33m.\u001b[0m\u001b[0mtesting\u001b[0m\u001b[1;33m,\u001b[0m \u001b[0mnames\u001b[0m\u001b[1;33m=\u001b[0m\u001b[1;33m(\u001b[0m\u001b[1;34m\"open\"\u001b[0m\u001b[1;33m,\u001b[0m \u001b[1;34m\"high\"\u001b[0m\u001b[1;33m,\u001b[0m \u001b[1;34m\"low\"\u001b[0m\u001b[1;33m,\u001b[0m \u001b[1;34m\"close\"\u001b[0m\u001b[1;33m)\u001b[0m\u001b[1;33m)\u001b[0m\u001b[1;33m\u001b[0m\u001b[0m\n",
      "\u001b[1;31mNameError\u001b[0m: name 'args' is not defined"
     ]
    }
   ],
   "source": [
    "import pandas as pd\n",
    "import numpy as np\n",
    "from talib import BBANDS, SAR, RSI, STOCH, EMA, WILLR\n",
    "from sklearn.model_selection import train_test_split, GridSearchCV\n",
    "from xgboost import XGBClassifier\n",
    "\n",
    "train_df = pd.read_csv(\"training.csv\", names=(\"open\", \"high\", \"low\", \"close\"))\n",
    "test_df = pd.read_csv(\"testing.csv\", names=(\"open\", \"high\", \"low\", \"close\"))"
   ]
  },
  {
   "cell_type": "code",
   "execution_count": null,
   "id": "outstanding-actress",
   "metadata": {},
   "outputs": [],
   "source": [
    "len(test_df)"
   ]
  },
  {
   "cell_type": "code",
   "execution_count": null,
   "id": "regulation-basketball",
   "metadata": {},
   "outputs": [],
   "source": [
    "# Do MinMax normalization\n",
    "maxValue = train_df.to_numpy().max()\n",
    "minValue = train_df.to_numpy().min()\n",
    "diff = maxValue - minValue\n",
    "train = train_df.transform(lambda x: (x - minValue) / diff)\n",
    "test = test_df.transform(lambda x: (x - minValue) / diff)"
   ]
  },
  {
   "cell_type": "code",
   "execution_count": null,
   "id": "documented-priest",
   "metadata": {},
   "outputs": [],
   "source": [
    "train[\"upperband\"], train[\"middleband\"], train[\"lowerband\"] = BBANDS(train.close.to_numpy())\n",
    "train[\"sar\"] = SAR(train.high.to_numpy(), train.low.to_numpy())\n",
    "train[\"rsi\"] = RSI(train.close.to_numpy(), timeperiod=5)\n",
    "train[\"slowk\"], train[\"slowd\"] = STOCH(train.high.to_numpy(), train.low.to_numpy(), train.close.to_numpy())\n",
    "train[\"ema\"] = EMA(train.close.to_numpy(), timeperiod=5)\n",
    "train[\"willr\"] = WILLR(train.high.to_numpy(), train.low.to_numpy(), train.close.to_numpy(), timeperiod=9)\n",
    "train.isnull().sum()"
   ]
  },
  {
   "cell_type": "code",
   "execution_count": null,
   "id": "danish-wound",
   "metadata": {},
   "outputs": [],
   "source": [
    "train_data = train.dropna()\n",
    "train_data = train_data.reset_index(drop=True)\n",
    "train_data"
   ]
  },
  {
   "cell_type": "code",
   "execution_count": null,
   "id": "plastic-projection",
   "metadata": {},
   "outputs": [],
   "source": [
    "y = list()\n",
    "for i in range(len(train_data)):\n",
    "    isBull = (train_data[\"open\"][i] > train_data[\"sar\"][i], \n",
    "              train_data[\"open\"][i] >= train_data[\"middleband\"][i],\n",
    "              train_data[\"rsi\"][i] > 50,\n",
    "              train_data[\"slowk\"][i] >= train_data[\"slowd\"][i],\n",
    "              train_data[\"open\"][i] >= train_data[\"ema\"][i],\n",
    "              train_data[\"willr\"][i] > -50)\n",
    "    if np.count_nonzero(isBull) > 4:\n",
    "        y.append(2)\n",
    "    elif np.count_nonzero(isBull) < 2:\n",
    "        y.append(0)\n",
    "    else:\n",
    "        y.append(1)\n",
    "y = np.array(y, dtype=np.int)"
   ]
  },
  {
   "cell_type": "code",
   "execution_count": null,
   "id": "legislative-demographic",
   "metadata": {},
   "outputs": [],
   "source": [
    "X = list()\n",
    "for i in range(20, len(train_data)):\n",
    "    X.append(train_data.loc[i-20:i-1, :].values)\n",
    "X = np.array(X)"
   ]
  },
  {
   "cell_type": "code",
   "execution_count": null,
   "id": "latter-generic",
   "metadata": {},
   "outputs": [],
   "source": [
    "y = y[39:]\n",
    "len(y)"
   ]
  },
  {
   "cell_type": "code",
   "execution_count": null,
   "id": "faced-volunteer",
   "metadata": {},
   "outputs": [],
   "source": [
    "test = X[-20:]\n",
    "len(test)"
   ]
  },
  {
   "cell_type": "code",
   "execution_count": null,
   "id": "mathematical-clinic",
   "metadata": {},
   "outputs": [],
   "source": [
    "new_X = X[:-19]\n",
    "\n",
    "new_X = new_X.reshape((len(y), -1))"
   ]
  },
  {
   "cell_type": "code",
   "execution_count": null,
   "id": "sensitive-wells",
   "metadata": {},
   "outputs": [],
   "source": [
    "new_X.shape"
   ]
  },
  {
   "cell_type": "code",
   "execution_count": null,
   "id": "suspended-valuable",
   "metadata": {},
   "outputs": [],
   "source": [
    "X_train, X_val, y_train, y_val = train_test_split(new_X, y, test_size=0.2, shuffle=False)"
   ]
  },
  {
   "cell_type": "code",
   "execution_count": null,
   "id": "complimentary-fishing",
   "metadata": {},
   "outputs": [],
   "source": [
    "xgb = XGBClassifier(learning_rate=0.1, \n",
    "                    objective='multi:softmax',\n",
    "                    num_class=3,\n",
    "                    n_estimators=1000, max_depth=1, min_child_weight=2, use_label_encoder=False)\n",
    "# model = xgb.fit(X_train, y_train,\n",
    "#                eval_set=[(X_val, y_val)],\n",
    "#               eval_metric=\"auc\",\n",
    "#                verbose=True)"
   ]
  },
  {
   "cell_type": "code",
   "execution_count": null,
   "id": "suburban-irish",
   "metadata": {},
   "outputs": [],
   "source": [
    "parameters = {\n",
    "    'max_depth': list(range(1, 10)),\n",
    "    'min_child_weight': list(range(1, 10)),\n",
    "    \"n_estimators\": list(range(100, 1001, 100))\n",
    "}\n",
    "gsearch = GridSearchCV(xgb, param_grid=parameters, scoring=\"f1\", cv=2)\n",
    "gsearch.fit(X_train, y_train,  eval_set=[(X_val, y_val)], eval_metric=\"auc\", verbose=True)\n",
    "best_parameters = gsearch.best_estimator_.get_params()"
   ]
  },
  {
   "cell_type": "code",
   "execution_count": null,
   "id": "empty-electron",
   "metadata": {},
   "outputs": [],
   "source": [
    "print(best_parameters)"
   ]
  },
  {
   "cell_type": "code",
   "execution_count": null,
   "id": "african-melissa",
   "metadata": {},
   "outputs": [],
   "source": [
    "xgb = XGBClassifier(learning_rate=0.1, n_estimators=30,\n",
    "                    objective='multi:softmax',\n",
    "                    num_class=3,\n",
    "                    max_depth=3, min_child_weight=10, use_label_encoder=False)\n",
    "model = xgb.fit(X_train, y_train,\n",
    "                eval_set=[(X_val, y_val)],\n",
    "                eval_metric=\"mlogloss\",\n",
    "                verbose=True)"
   ]
  },
  {
   "cell_type": "code",
   "execution_count": null,
   "id": "built-associate",
   "metadata": {
    "tags": []
   },
   "outputs": [],
   "source": [
    "model.predict(test.reshape(20, -1))"
   ]
  },
  {
   "cell_type": "code",
   "execution_count": null,
   "id": "random-giant",
   "metadata": {},
   "outputs": [],
   "source": [
    "test[\"upperband\"], test[\"middleband\"], test[\"lowerband\"] = BBANDS(test.close.to_numpy())\n",
    "# train[\"ma5\"] = MA(train.close.to_numpy(), timeperiod=5)\n",
    "test[\"sar\"] = SAR(test.high.to_numpy(), test.low.to_numpy())\n",
    "test[\"rsi\"] = RSI(test.close.to_numpy(), timeperiod=5)\n",
    "test[\"slowk\"], test[\"slowd\"] = STOCH(test.high.to_numpy(), test.low.to_numpy(), test.close.to_numpy())"
   ]
  },
  {
   "cell_type": "code",
   "execution_count": null,
   "id": "registered-mortgage",
   "metadata": {},
   "outputs": [],
   "source": [
    "predictions = model.predict(test.values)\n",
    "len(predictions)"
   ]
  },
  {
   "cell_type": "code",
   "execution_count": null,
   "id": "positive-destruction",
   "metadata": {},
   "outputs": [],
   "source": [
    "ans = []\n",
    "val = 0\n",
    "for i in range(1, len(predictions)):\n",
    "    _sum = sum(predictions[i-1:i+1])\n",
    "    if _sum == 2:\n",
    "        val = 1 if (val == 1) else (val + 1) \n",
    "    elif _sum == 1:\n",
    "        val = val\n",
    "    else:\n",
    "        val = -1 if (val == -1) else val - 1\n",
    "    ans.append(val)\n",
    "print(ans, len(ans), sep='\\n\\n')\n",
    "with open(\"./output.csv\", \"w\") as fp:\n",
    "    for i in range(len(ans)):\n",
    "        print(ans[i], file=fp)"
   ]
  }
 ],
 "metadata": {
  "kernelspec": {
   "display_name": "dsai",
   "language": "python",
   "name": "dsai"
  },
  "language_info": {
   "codemirror_mode": {
    "name": "ipython",
    "version": 3
   },
   "file_extension": ".py",
   "mimetype": "text/x-python",
   "name": "python",
   "nbconvert_exporter": "python",
   "pygments_lexer": "ipython3",
   "version": "3.6.4"
  }
 },
 "nbformat": 4,
 "nbformat_minor": 5
}
