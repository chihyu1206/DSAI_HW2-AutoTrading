{
 "cells": [
  {
   "cell_type": "code",
   "execution_count": 2,
   "id": "passive-cookbook",
   "metadata": {
    "tags": []
   },
   "outputs": [],
   "source": [
    "import pandas as pd\n",
    "import numpy as np\n",
    "from talib import BBANDS, SAR, RSI, STOCH, EMA, WILLR\n",
    "from sklearn.model_selection import train_test_split, GridSearchCV\n",
    "from xgboost import XGBClassifier\n",
    "\n",
    "train_df = pd.read_csv(\"training.csv\", names=(\"open\", \"high\", \"low\", \"close\"))\n",
    "test_df = pd.read_csv(\"testing.csv\", names=(\"open\", \"high\", \"low\", \"close\"))"
   ]
  },
  {
   "cell_type": "code",
   "execution_count": 3,
   "id": "vertical-small",
   "metadata": {},
   "outputs": [
    {
     "data": {
      "text/plain": [
       "19"
      ]
     },
     "execution_count": 3,
     "metadata": {},
     "output_type": "execute_result"
    }
   ],
   "source": [
    "len(test_df)"
   ]
  },
  {
   "cell_type": "code",
   "execution_count": 4,
   "id": "demonstrated-flood",
   "metadata": {},
   "outputs": [],
   "source": [
    "# Do MinMax normalization\n",
    "maxValue = train_df.to_numpy().max()\n",
    "minValue = train_df.to_numpy().min()\n",
    "diff = maxValue - minValue\n",
    "train = train_df.transform(lambda x: (x - minValue) / diff)\n",
    "test = test_df.transform(lambda x: (x - minValue) / diff)"
   ]
  },
  {
   "cell_type": "code",
   "execution_count": 5,
   "id": "collect-joint",
   "metadata": {},
   "outputs": [
    {
     "data": {
      "text/plain": [
       "open          0\n",
       "high          0\n",
       "low           0\n",
       "close         0\n",
       "upperband     4\n",
       "middleband    4\n",
       "lowerband     4\n",
       "sar           1\n",
       "rsi           5\n",
       "slowk         8\n",
       "slowd         8\n",
       "ema           4\n",
       "willr         8\n",
       "dtype: int64"
      ]
     },
     "execution_count": 5,
     "metadata": {},
     "output_type": "execute_result"
    }
   ],
   "source": [
    "train[\"upperband\"], train[\"middleband\"], train[\"lowerband\"] = BBANDS(train.close.to_numpy())\n",
    "train[\"sar\"] = SAR(train.high.to_numpy(), train.low.to_numpy())\n",
    "train[\"rsi\"] = RSI(train.close.to_numpy(), timeperiod=5)\n",
    "train[\"slowk\"], train[\"slowd\"] = STOCH(train.high.to_numpy(), train.low.to_numpy(), train.close.to_numpy())\n",
    "train[\"ema\"] = EMA(train.close.to_numpy(), timeperiod=5)\n",
    "train[\"willr\"] = WILLR(train.high.to_numpy(), train.low.to_numpy(), train.close.to_numpy(), timeperiod=9)\n",
    "train.isnull().sum()"
   ]
  },
  {
   "cell_type": "code",
   "execution_count": 6,
   "id": "respiratory-review",
   "metadata": {},
   "outputs": [
    {
     "data": {
      "text/html": [
       "<div>\n",
       "<style scoped>\n",
       "    .dataframe tbody tr th:only-of-type {\n",
       "        vertical-align: middle;\n",
       "    }\n",
       "\n",
       "    .dataframe tbody tr th {\n",
       "        vertical-align: top;\n",
       "    }\n",
       "\n",
       "    .dataframe thead th {\n",
       "        text-align: right;\n",
       "    }\n",
       "</style>\n",
       "<table border=\"1\" class=\"dataframe\">\n",
       "  <thead>\n",
       "    <tr style=\"text-align: right;\">\n",
       "      <th></th>\n",
       "      <th>open</th>\n",
       "      <th>high</th>\n",
       "      <th>low</th>\n",
       "      <th>close</th>\n",
       "      <th>upperband</th>\n",
       "      <th>middleband</th>\n",
       "      <th>lowerband</th>\n",
       "      <th>sar</th>\n",
       "      <th>rsi</th>\n",
       "      <th>slowk</th>\n",
       "      <th>slowd</th>\n",
       "      <th>ema</th>\n",
       "      <th>willr</th>\n",
       "    </tr>\n",
       "  </thead>\n",
       "  <tbody>\n",
       "    <tr>\n",
       "      <th>0</th>\n",
       "      <td>0.632121</td>\n",
       "      <td>0.633434</td>\n",
       "      <td>0.610606</td>\n",
       "      <td>0.628889</td>\n",
       "      <td>0.669042</td>\n",
       "      <td>0.647333</td>\n",
       "      <td>0.625624</td>\n",
       "      <td>0.693245</td>\n",
       "      <td>10.760278</td>\n",
       "      <td>35.685147</td>\n",
       "      <td>30.969656</td>\n",
       "      <td>0.648791</td>\n",
       "      <td>-84.066901</td>\n",
       "    </tr>\n",
       "    <tr>\n",
       "      <th>1</th>\n",
       "      <td>0.641010</td>\n",
       "      <td>0.657576</td>\n",
       "      <td>0.630505</td>\n",
       "      <td>0.637374</td>\n",
       "      <td>0.666021</td>\n",
       "      <td>0.644121</td>\n",
       "      <td>0.622222</td>\n",
       "      <td>0.683329</td>\n",
       "      <td>24.037590</td>\n",
       "      <td>35.196490</td>\n",
       "      <td>34.271958</td>\n",
       "      <td>0.644985</td>\n",
       "      <td>-70.489978</td>\n",
       "    </tr>\n",
       "    <tr>\n",
       "      <th>2</th>\n",
       "      <td>0.635657</td>\n",
       "      <td>0.653535</td>\n",
       "      <td>0.632323</td>\n",
       "      <td>0.648182</td>\n",
       "      <td>0.665042</td>\n",
       "      <td>0.643636</td>\n",
       "      <td>0.622231</td>\n",
       "      <td>0.674602</td>\n",
       "      <td>38.586495</td>\n",
       "      <td>46.049189</td>\n",
       "      <td>38.976942</td>\n",
       "      <td>0.646051</td>\n",
       "      <td>-51.562500</td>\n",
       "    </tr>\n",
       "    <tr>\n",
       "      <th>3</th>\n",
       "      <td>0.655455</td>\n",
       "      <td>0.661212</td>\n",
       "      <td>0.640909</td>\n",
       "      <td>0.642626</td>\n",
       "      <td>0.653047</td>\n",
       "      <td>0.640000</td>\n",
       "      <td>0.626953</td>\n",
       "      <td>0.666922</td>\n",
       "      <td>34.358325</td>\n",
       "      <td>57.668859</td>\n",
       "      <td>46.304846</td>\n",
       "      <td>0.644909</td>\n",
       "      <td>-55.539972</td>\n",
       "    </tr>\n",
       "    <tr>\n",
       "      <th>4</th>\n",
       "      <td>0.695657</td>\n",
       "      <td>0.727980</td>\n",
       "      <td>0.685354</td>\n",
       "      <td>0.723434</td>\n",
       "      <td>0.724624</td>\n",
       "      <td>0.656101</td>\n",
       "      <td>0.587578</td>\n",
       "      <td>0.610606</td>\n",
       "      <td>78.063128</td>\n",
       "      <td>75.844229</td>\n",
       "      <td>59.854092</td>\n",
       "      <td>0.671084</td>\n",
       "      <td>-3.872633</td>\n",
       "    </tr>\n",
       "    <tr>\n",
       "      <th>...</th>\n",
       "      <td>...</td>\n",
       "      <td>...</td>\n",
       "      <td>...</td>\n",
       "      <td>...</td>\n",
       "      <td>...</td>\n",
       "      <td>...</td>\n",
       "      <td>...</td>\n",
       "      <td>...</td>\n",
       "      <td>...</td>\n",
       "      <td>...</td>\n",
       "      <td>...</td>\n",
       "      <td>...</td>\n",
       "      <td>...</td>\n",
       "    </tr>\n",
       "    <tr>\n",
       "      <th>1475</th>\n",
       "      <td>0.354040</td>\n",
       "      <td>0.356566</td>\n",
       "      <td>0.347778</td>\n",
       "      <td>0.352929</td>\n",
       "      <td>0.367668</td>\n",
       "      <td>0.344525</td>\n",
       "      <td>0.321382</td>\n",
       "      <td>0.302071</td>\n",
       "      <td>67.065605</td>\n",
       "      <td>87.132992</td>\n",
       "      <td>83.501390</td>\n",
       "      <td>0.345742</td>\n",
       "      <td>-9.775641</td>\n",
       "    </tr>\n",
       "    <tr>\n",
       "      <th>1476</th>\n",
       "      <td>0.355152</td>\n",
       "      <td>0.359495</td>\n",
       "      <td>0.350707</td>\n",
       "      <td>0.354343</td>\n",
       "      <td>0.361821</td>\n",
       "      <td>0.350606</td>\n",
       "      <td>0.339391</td>\n",
       "      <td>0.304352</td>\n",
       "      <td>68.454615</td>\n",
       "      <td>83.240226</td>\n",
       "      <td>84.920261</td>\n",
       "      <td>0.348609</td>\n",
       "      <td>-8.121019</td>\n",
       "    </tr>\n",
       "    <tr>\n",
       "      <th>1477</th>\n",
       "      <td>0.358081</td>\n",
       "      <td>0.363939</td>\n",
       "      <td>0.351515</td>\n",
       "      <td>0.359293</td>\n",
       "      <td>0.359533</td>\n",
       "      <td>0.354566</td>\n",
       "      <td>0.349598</td>\n",
       "      <td>0.307660</td>\n",
       "      <td>73.368544</td>\n",
       "      <td>78.956152</td>\n",
       "      <td>83.109790</td>\n",
       "      <td>0.352170</td>\n",
       "      <td>-6.845238</td>\n",
       "    </tr>\n",
       "    <tr>\n",
       "      <th>1478</th>\n",
       "      <td>0.362727</td>\n",
       "      <td>0.370808</td>\n",
       "      <td>0.356263</td>\n",
       "      <td>0.370202</td>\n",
       "      <td>0.371149</td>\n",
       "      <td>0.357798</td>\n",
       "      <td>0.344447</td>\n",
       "      <td>0.312163</td>\n",
       "      <td>81.365806</td>\n",
       "      <td>83.695902</td>\n",
       "      <td>81.964093</td>\n",
       "      <td>0.358181</td>\n",
       "      <td>-0.981997</td>\n",
       "    </tr>\n",
       "    <tr>\n",
       "      <th>1479</th>\n",
       "      <td>0.371212</td>\n",
       "      <td>0.378889</td>\n",
       "      <td>0.365455</td>\n",
       "      <td>0.374444</td>\n",
       "      <td>0.379449</td>\n",
       "      <td>0.362242</td>\n",
       "      <td>0.345036</td>\n",
       "      <td>0.318027</td>\n",
       "      <td>83.739458</td>\n",
       "      <td>85.497704</td>\n",
       "      <td>82.716586</td>\n",
       "      <td>0.363602</td>\n",
       "      <td>-7.885305</td>\n",
       "    </tr>\n",
       "  </tbody>\n",
       "</table>\n",
       "<p>1480 rows × 13 columns</p>\n",
       "</div>"
      ],
      "text/plain": [
       "          open      high       low     close  upperband  middleband  \\\n",
       "0     0.632121  0.633434  0.610606  0.628889   0.669042    0.647333   \n",
       "1     0.641010  0.657576  0.630505  0.637374   0.666021    0.644121   \n",
       "2     0.635657  0.653535  0.632323  0.648182   0.665042    0.643636   \n",
       "3     0.655455  0.661212  0.640909  0.642626   0.653047    0.640000   \n",
       "4     0.695657  0.727980  0.685354  0.723434   0.724624    0.656101   \n",
       "...        ...       ...       ...       ...        ...         ...   \n",
       "1475  0.354040  0.356566  0.347778  0.352929   0.367668    0.344525   \n",
       "1476  0.355152  0.359495  0.350707  0.354343   0.361821    0.350606   \n",
       "1477  0.358081  0.363939  0.351515  0.359293   0.359533    0.354566   \n",
       "1478  0.362727  0.370808  0.356263  0.370202   0.371149    0.357798   \n",
       "1479  0.371212  0.378889  0.365455  0.374444   0.379449    0.362242   \n",
       "\n",
       "      lowerband       sar        rsi      slowk      slowd       ema  \\\n",
       "0      0.625624  0.693245  10.760278  35.685147  30.969656  0.648791   \n",
       "1      0.622222  0.683329  24.037590  35.196490  34.271958  0.644985   \n",
       "2      0.622231  0.674602  38.586495  46.049189  38.976942  0.646051   \n",
       "3      0.626953  0.666922  34.358325  57.668859  46.304846  0.644909   \n",
       "4      0.587578  0.610606  78.063128  75.844229  59.854092  0.671084   \n",
       "...         ...       ...        ...        ...        ...       ...   \n",
       "1475   0.321382  0.302071  67.065605  87.132992  83.501390  0.345742   \n",
       "1476   0.339391  0.304352  68.454615  83.240226  84.920261  0.348609   \n",
       "1477   0.349598  0.307660  73.368544  78.956152  83.109790  0.352170   \n",
       "1478   0.344447  0.312163  81.365806  83.695902  81.964093  0.358181   \n",
       "1479   0.345036  0.318027  83.739458  85.497704  82.716586  0.363602   \n",
       "\n",
       "          willr  \n",
       "0    -84.066901  \n",
       "1    -70.489978  \n",
       "2    -51.562500  \n",
       "3    -55.539972  \n",
       "4     -3.872633  \n",
       "...         ...  \n",
       "1475  -9.775641  \n",
       "1476  -8.121019  \n",
       "1477  -6.845238  \n",
       "1478  -0.981997  \n",
       "1479  -7.885305  \n",
       "\n",
       "[1480 rows x 13 columns]"
      ]
     },
     "execution_count": 6,
     "metadata": {},
     "output_type": "execute_result"
    }
   ],
   "source": [
    "train_data = train.dropna()\n",
    "train_data = train_data.reset_index(drop=True)\n",
    "train_data"
   ]
  },
  {
   "cell_type": "code",
   "execution_count": 7,
   "id": "initial-smell",
   "metadata": {},
   "outputs": [],
   "source": [
    "y = list()\n",
    "for i in range(len(train_data)):\n",
    "    isBull = (train_data[\"open\"][i] > train_data[\"sar\"][i], \n",
    "              train_data[\"open\"][i] >= train_data[\"middleband\"][i],\n",
    "              train_data[\"rsi\"][i] > 50,\n",
    "              train_data[\"slowk\"][i] >= train_data[\"slowd\"][i],\n",
    "              train_data[\"open\"][i] >= train_data[\"ema\"][i],\n",
    "              train_data[\"willr\"][i] > -50)\n",
    "    if np.count_nonzero(isBull) > 4:\n",
    "        y.append(2)\n",
    "    elif np.count_nonzero(isBull) < 2:\n",
    "        y.append(0)\n",
    "    else:\n",
    "        y.append(1)\n",
    "y = np.array(y, dtype=np.int)"
   ]
  },
  {
   "cell_type": "code",
   "execution_count": 8,
   "id": "trying-export",
   "metadata": {},
   "outputs": [],
   "source": [
    "X = list()\n",
    "for i in range(20, len(train_data)):\n",
    "    X.append(train_data.loc[i-20:i-1, :].values)\n",
    "X = np.array(X)"
   ]
  },
  {
   "cell_type": "code",
   "execution_count": 9,
   "id": "curious-girlfriend",
   "metadata": {},
   "outputs": [
    {
     "data": {
      "text/plain": [
       "1441"
      ]
     },
     "execution_count": 9,
     "metadata": {},
     "output_type": "execute_result"
    }
   ],
   "source": [
    "y = y[39:]\n",
    "len(y)"
   ]
  },
  {
   "cell_type": "code",
   "execution_count": 10,
   "id": "julian-paint",
   "metadata": {},
   "outputs": [
    {
     "data": {
      "text/plain": [
       "19"
      ]
     },
     "execution_count": 10,
     "metadata": {},
     "output_type": "execute_result"
    }
   ],
   "source": [
    "test = X[-len(test_df):]\n",
    "len(test)"
   ]
  },
  {
   "cell_type": "code",
   "execution_count": 12,
   "id": "comprehensive-column",
   "metadata": {},
   "outputs": [],
   "source": [
    "new_X = X[:-len(test_df)]\n",
    "\n",
    "new_X = new_X.reshape((len(y), -1))"
   ]
  },
  {
   "cell_type": "code",
   "execution_count": 13,
   "id": "close-portrait",
   "metadata": {},
   "outputs": [
    {
     "data": {
      "text/plain": [
       "(1441, 260)"
      ]
     },
     "execution_count": 13,
     "metadata": {},
     "output_type": "execute_result"
    }
   ],
   "source": [
    "new_X.shape"
   ]
  },
  {
   "cell_type": "code",
   "execution_count": null,
   "id": "plain-harvey",
   "metadata": {},
   "outputs": [],
   "source": [
    "X_train, X_val, y_train, y_val = train_test_split(new_X, y, test_size=0.2, shuffle=False)"
   ]
  },
  {
   "cell_type": "code",
   "execution_count": null,
   "id": "western-stationery",
   "metadata": {},
   "outputs": [],
   "source": [
    "xgb = XGBClassifier(learning_rate=0.1, \n",
    "                    objective='multi:softmax',\n",
    "                    num_class=3,\n",
    "                    n_estimators=1000, max_depth=1, min_child_weight=2, use_label_encoder=False)\n",
    "# model = xgb.fit(X_train, y_train,\n",
    "#                eval_set=[(X_val, y_val)],\n",
    "#               eval_metric=\"auc\",\n",
    "#                verbose=True)"
   ]
  },
  {
   "cell_type": "code",
   "execution_count": null,
   "id": "restricted-milton",
   "metadata": {},
   "outputs": [],
   "source": [
    "parameters = {\n",
    "    'max_depth': list(range(1, 10)),\n",
    "    'min_child_weight': list(range(1, 10)),\n",
    "    \"n_estimators\": list(range(100, 1001, 100))\n",
    "}\n",
    "gsearch = GridSearchCV(xgb, param_grid=parameters, scoring=\"f1\", cv=2)\n",
    "gsearch.fit(X_train, y_train,  eval_set=[(X_val, y_val)], eval_metric=\"auc\", verbose=True)\n",
    "best_parameters = gsearch.best_estimator_.get_params()"
   ]
  },
  {
   "cell_type": "code",
   "execution_count": null,
   "id": "valued-mining",
   "metadata": {},
   "outputs": [],
   "source": [
    "print(best_parameters)"
   ]
  },
  {
   "cell_type": "code",
   "execution_count": null,
   "id": "collectible-smoke",
   "metadata": {},
   "outputs": [],
   "source": [
    "xgb = XGBClassifier(learning_rate=0.1, n_estimators=30,\n",
    "                    objective='multi:softmax',\n",
    "                    num_class=3,\n",
    "                    max_depth=3, min_child_weight=10, use_label_encoder=False)\n",
    "model = xgb.fit(X_train, y_train,\n",
    "                eval_set=[(X_val, y_val)],\n",
    "                eval_metric=\"mlogloss\",\n",
    "                verbose=True)"
   ]
  },
  {
   "cell_type": "code",
   "execution_count": null,
   "id": "studied-simpson",
   "metadata": {
    "tags": []
   },
   "outputs": [],
   "source": [
    "model.predict(test.reshape(20, -1))"
   ]
  },
  {
   "cell_type": "code",
   "execution_count": null,
   "id": "norwegian-organizer",
   "metadata": {},
   "outputs": [],
   "source": [
    "test[\"upperband\"], test[\"middleband\"], test[\"lowerband\"] = BBANDS(test.close.to_numpy())\n",
    "# train[\"ma5\"] = MA(train.close.to_numpy(), timeperiod=5)\n",
    "test[\"sar\"] = SAR(test.high.to_numpy(), test.low.to_numpy())\n",
    "test[\"rsi\"] = RSI(test.close.to_numpy(), timeperiod=5)\n",
    "test[\"slowk\"], test[\"slowd\"] = STOCH(test.high.to_numpy(), test.low.to_numpy(), test.close.to_numpy())"
   ]
  },
  {
   "cell_type": "code",
   "execution_count": null,
   "id": "aggressive-camcorder",
   "metadata": {},
   "outputs": [],
   "source": [
    "predictions = model.predict(test.values)\n",
    "len(predictions)"
   ]
  },
  {
   "cell_type": "code",
   "execution_count": null,
   "id": "attractive-ivory",
   "metadata": {},
   "outputs": [],
   "source": [
    "ans = []\n",
    "val = 0\n",
    "for i in range(1, len(predictions)):\n",
    "    _sum = sum(predictions[i-1:i+1])\n",
    "    if _sum == 2:\n",
    "        val = 1 if (val == 1) else (val + 1) \n",
    "    elif _sum == 1:\n",
    "        val = val\n",
    "    else:\n",
    "        val = -1 if (val == -1) else val - 1\n",
    "    ans.append(val)\n",
    "print(ans, len(ans), sep='\\n\\n')\n",
    "with open(\"./output.csv\", \"w\") as fp:\n",
    "    for i in range(len(ans)):\n",
    "        print(ans[i], file=fp)"
   ]
  }
 ],
 "metadata": {
  "kernelspec": {
   "display_name": "dsai",
   "language": "python",
   "name": "dsai"
  },
  "language_info": {
   "codemirror_mode": {
    "name": "ipython",
    "version": 3
   },
   "file_extension": ".py",
   "mimetype": "text/x-python",
   "name": "python",
   "nbconvert_exporter": "python",
   "pygments_lexer": "ipython3",
   "version": "3.6.4"
  }
 },
 "nbformat": 4,
 "nbformat_minor": 5
}
