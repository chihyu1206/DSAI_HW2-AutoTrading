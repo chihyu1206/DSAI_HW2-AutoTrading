{
 "cells": [
  {
   "cell_type": "code",
   "execution_count": null,
   "id": "alert-lingerie",
   "metadata": {},
   "outputs": [],
   "source": [
    "import pandas as pd\n",
    "import numpy as np\n",
    "from talib import BBANDS, SAR, RSI, STOCH\n",
    "from sklearn.model_selection import train_test_split, GridSearchCV\n",
    "from xgboost import XGBClassifier\n",
    "\n",
    "train_df = pd.read_csv(\"./training.csv\")\n",
    "test_df = pd.read_csv(\"./testing.csv\")\n",
    "train_df.columns = (\"open\", \"high\", \"low\", \"close\")\n",
    "test_df.columns = (\"open\", \"high\", \"low\", \"close\")"
   ]
  },
  {
   "cell_type": "code",
   "execution_count": null,
   "id": "dominant-clark",
   "metadata": {},
   "outputs": [],
   "source": [
    "train_df"
   ]
  },
  {
   "cell_type": "code",
   "execution_count": null,
   "id": "enhanced-alaska",
   "metadata": {},
   "outputs": [],
   "source": [
    "test_df"
   ]
  },
  {
   "cell_type": "code",
   "execution_count": null,
   "id": "acoustic-interference",
   "metadata": {},
   "outputs": [],
   "source": [
    "maxValue = train_df.to_numpy().max()\n",
    "minValue = train_df.to_numpy().min()\n",
    "diff = maxValue - minValue\n",
    "train = train_df.transform(lambda x: (x - minValue) / diff)\n",
    "test = test_df.transform(lambda x: (x - minValue) / diff)\n",
    "train"
   ]
  },
  {
   "cell_type": "code",
   "execution_count": null,
   "id": "headed-forest",
   "metadata": {},
   "outputs": [],
   "source": [
    "train[\"upperband\"], train[\"middleband\"], train[\"lowerband\"] = BBANDS(train.close.to_numpy())\n",
    "# train[\"ma5\"] = MA(train.close.to_numpy(), timeperiod=5)\n",
    "train[\"sar\"] = SAR(train.high.to_numpy(), train.low.to_numpy())\n",
    "train[\"rsi\"] = RSI(train.close.to_numpy(), timeperiod=5)\n",
    "train[\"slowk\"], train[\"slowd\"] = STOCH(train.high.to_numpy(), train.low.to_numpy(), train.close.to_numpy())\n",
    "train.isnull().sum()"
   ]
  },
  {
   "cell_type": "code",
   "execution_count": null,
   "id": "terminal-royalty",
   "metadata": {},
   "outputs": [],
   "source": [
    "train_data = train.dropna()\n",
    "train_data"
   ]
  },
  {
   "cell_type": "code",
   "execution_count": null,
   "id": "overhead-terrace",
   "metadata": {},
   "outputs": [],
   "source": [
    "train_data['week'] = np.where(train_data.open.shift(-5) > train_data.open, 1, 0)"
   ]
  },
  {
   "cell_type": "code",
   "execution_count": null,
   "id": "wired-buddy",
   "metadata": {},
   "outputs": [],
   "source": [
    "train_data"
   ]
  },
  {
   "cell_type": "code",
   "execution_count": null,
   "id": "finite-intermediate",
   "metadata": {},
   "outputs": [],
   "source": [
    "train = train_data.drop(train_data.tail(5).index, inplace=False)\n",
    "y = train.week.to_numpy()\n",
    "X = train.drop(\"week\", axis=1).to_numpy()\n",
    "X_train, X_val, y_train, y_val = train_test_split(X, y, test_size=0.3, shuffle=False)"
   ]
  },
  {
   "cell_type": "code",
   "execution_count": null,
   "id": "banner-equation",
   "metadata": {},
   "outputs": [],
   "source": [
    "xgb = XGBClassifier(learning_rate=0.1, n_estimators=1000, max_depth=1, min_child_weight=2, use_label_encoder=False)\n",
    "# model = xgb.fit(X_train, y_train,\n",
    "#                eval_set=[(X_val, y_val)],\n",
    "#               eval_metric=\"auc\",\n",
    "#                verbose=True)"
   ]
  },
  {
   "cell_type": "code",
   "execution_count": null,
   "id": "pregnant-beaver",
   "metadata": {},
   "outputs": [],
   "source": [
    "parameters = {\n",
    "    'max_depth': list(range(1, 10)),\n",
    "    'min_child_weight': list(range(1, 10))\n",
    "}\n",
    "gsearch = GridSearchCV(xgb, param_grid=parameters, scoring=\"f1\", cv=2)\n",
    "gsearch.fit(X_train, y_train,  eval_set=[(X_val, y_val)], eval_metric=\"auc\", verbose=True)\n",
    "best_parameters = gsearch.best_estimator_.get_params()"
   ]
  },
  {
   "cell_type": "code",
   "execution_count": null,
   "id": "approximate-cleaning",
   "metadata": {},
   "outputs": [],
   "source": [
    "print(best_parameters)"
   ]
  },
  {
   "cell_type": "code",
   "execution_count": null,
   "id": "material-article",
   "metadata": {},
   "outputs": [],
   "source": [
    "xgb = XGBClassifier(learning_rate=0.1, n_estimators=1000, max_depth=5, min_child_weight=9, use_label_encoder=False)\n",
    "model = xgb.fit(X_train, y_train,\n",
    "                eval_set=[(X_val, y_val)],\n",
    "                eval_metric=\"auc\",\n",
    "                verbose=True)"
   ]
  },
  {
   "cell_type": "code",
   "execution_count": null,
   "id": "bronze-dancing",
   "metadata": {},
   "outputs": [],
   "source": [
    "model.score(X_val, y_val)"
   ]
  },
  {
   "cell_type": "code",
   "execution_count": null,
   "id": "antique-medline",
   "metadata": {},
   "outputs": [],
   "source": [
    "model.predict(X_val)"
   ]
  },
  {
   "cell_type": "code",
   "execution_count": null,
   "id": "subjective-threat",
   "metadata": {},
   "outputs": [],
   "source": [
    "test[\"upperband\"], test[\"middleband\"], test[\"lowerband\"] = BBANDS(test.close.to_numpy())\n",
    "# train[\"ma5\"] = MA(train.close.to_numpy(), timeperiod=5)\n",
    "test[\"sar\"] = SAR(test.high.to_numpy(), test.low.to_numpy())\n",
    "test[\"rsi\"] = RSI(test.close.to_numpy(), timeperiod=5)\n",
    "test[\"slowk\"], test[\"slowd\"] = STOCH(test.high.to_numpy(), test.low.to_numpy(), test.close.to_numpy())"
   ]
  },
  {
   "cell_type": "code",
   "execution_count": null,
   "id": "adapted-discount",
   "metadata": {},
   "outputs": [],
   "source": [
    "predictions = model.predict(test.values)\n",
    "len(predictions)"
   ]
  },
  {
   "cell_type": "code",
   "execution_count": null,
   "id": "vocational-resource",
   "metadata": {},
   "outputs": [],
   "source": [
    "ans = []\n",
    "val = 0\n",
    "for i in range(1, len(predictions)):\n",
    "    _sum = sum(predictions[i-1:i+1])\n",
    "    if _sum == 2:\n",
    "        val = 1 if (val == 1) else (val + 1) \n",
    "    elif _sum == 1:\n",
    "        val = val\n",
    "    else:\n",
    "        val = -1 if (val == -1) else val - 1\n",
    "    ans.append(val)\n",
    "print(ans, len(ans), sep='\\n\\n')\n",
    "with open(\"./output.csv\", \"w\") as fp:\n",
    "    for i in range(len(ans)):\n",
    "        print(ans[i], file=fp)"
   ]
  }
 ],
 "metadata": {
  "kernelspec": {
   "display_name": "dsai",
   "language": "python",
   "name": "dsai"
  },
  "language_info": {
   "codemirror_mode": {
    "name": "ipython",
    "version": 3
   },
   "file_extension": ".py",
   "mimetype": "text/x-python",
   "name": "python",
   "nbconvert_exporter": "python",
   "pygments_lexer": "ipython3",
   "version": "3.6.4"
  }
 },
 "nbformat": 4,
 "nbformat_minor": 5
}
